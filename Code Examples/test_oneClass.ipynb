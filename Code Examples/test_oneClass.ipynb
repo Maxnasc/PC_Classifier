{
 "cells": [
  {
   "cell_type": "markdown",
   "metadata": {},
   "source": [
    "Testing OCPC module: implement a OCPC classifier"
   ]
  },
  {
   "cell_type": "code",
   "execution_count": null,
   "metadata": {},
   "outputs": [],
   "source": [
    "from ocpc_py import OneClassPC\n",
    "import numpy as np\n",
    "import scipy.io as sio\n",
    "import matplotlib.pyplot as plt\n",
    "from sklearn.model_selection import train_test_split\n",
    "from sklearn.metrics import accuracy_score"
   ]
  },
  {
   "cell_type": "markdown",
   "metadata": {},
   "source": [
    "Opening the synthetic dataset and divide the inlier and outlier class"
   ]
  },
  {
   "cell_type": "code",
   "execution_count": 11,
   "metadata": {},
   "outputs": [],
   "source": [
    "df = sio.loadmat('flame_data.mat')\n",
    "df_x = df['X']\n",
    "df_y = df['y']\n",
    "X = np.concatenate((df_x, df_y), axis = 1)\n",
    "x_inlier = X[X[:,-1] == 1]\n",
    "x_outlier = X[X[:,-1] == -1]"
   ]
  },
  {
   "cell_type": "markdown",
   "metadata": {},
   "source": [
    "Dividing x_inlier in train and test sets"
   ]
  },
  {
   "cell_type": "code",
   "execution_count": null,
   "metadata": {},
   "outputs": [],
   "source": [
    "\n",
    "x_inlier_train, x_inlier_test = train_test_split(x_inlier, test_size=0.2, random_state=42)"
   ]
  },
  {
   "cell_type": "markdown",
   "metadata": {},
   "source": [
    "Creating and training the classifier"
   ]
  },
  {
   "cell_type": "code",
   "execution_count": null,
   "metadata": {},
   "outputs": [
    {
     "data": {
      "text/plain": [
       "<ocpc_py.Models.OneClassPC at 0x1d4009ed9d0>"
      ]
     },
     "execution_count": 13,
     "metadata": {},
     "output_type": "execute_result"
    }
   ],
   "source": [
    "clf = OneClassPC()\n",
    "#removing the last column (target column)\n",
    "clf.fit(x_inlier_train[:,0:-1])"
   ]
  },
  {
   "cell_type": "markdown",
   "metadata": {},
   "source": [
    "Testing the model "
   ]
  },
  {
   "cell_type": "code",
   "execution_count": null,
   "metadata": {},
   "outputs": [
    {
     "name": "stdout",
     "output_type": "stream",
     "text": [
      "0.9372325249643366\n"
     ]
    }
   ],
   "source": [
    "\n",
    "\n",
    "#join the both test sets\n",
    "test_data = np.concatenate((x_inlier_test, x_outlier), axis = 0)\n",
    "\n",
    "#shuffle the samples\n",
    "np.random.shuffle(test_data)\n",
    "\n",
    "#predict the test set and get the accuracy\n",
    "y_pred = clf.predict(test_data[:,0:-1])\n",
    "print(accuracy_score(y_true= test_data[:,-1], y_pred= y_pred))"
   ]
  }
 ],
 "metadata": {
  "kernelspec": {
   "display_name": "Python 3",
   "language": "python",
   "name": "python3"
  },
  "language_info": {
   "codemirror_mode": {
    "name": "ipython",
    "version": 3
   },
   "file_extension": ".py",
   "mimetype": "text/x-python",
   "name": "python",
   "nbconvert_exporter": "python",
   "pygments_lexer": "ipython3",
   "version": "3.12.4"
  }
 },
 "nbformat": 4,
 "nbformat_minor": 2
}
